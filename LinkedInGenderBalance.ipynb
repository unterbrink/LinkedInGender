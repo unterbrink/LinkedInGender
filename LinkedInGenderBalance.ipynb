{
  "nbformat": 4,
  "nbformat_minor": 0,
  "metadata": {
    "colab": {
      "name": "LinkedInGenderBalance.ipynb",
      "provenance": [],
      "collapsed_sections": [],
      "authorship_tag": "ABX9TyOhMHoYhlXCWCbn+glCDjfc",
      "include_colab_link": true
    },
    "kernelspec": {
      "name": "ir",
      "display_name": "R"
    },
    "language_info": {
      "name": "R"
    }
  },
  "cells": [
    {
      "cell_type": "markdown",
      "metadata": {
        "id": "view-in-github",
        "colab_type": "text"
      },
      "source": [
        "<a href=\"https://colab.research.google.com/github/unterbrink/LinkedInGender/blob/main/LinkedInGenderBalance.ipynb\" target=\"_parent\"><img src=\"https://colab.research.google.com/assets/colab-badge.svg\" alt=\"Open In Colab\"/></a>"
      ]
    },
    {
      "cell_type": "markdown",
      "source": [
        "Note: for this project I used Colab, a free interactive notebook provided by Google Cloud. Colab is typically used for Python, but can also be used for R. The easiest way is to visit https://colab.to/r, which will create an R notebook (don't worry about the ipynb extension). "
      ],
      "metadata": {
        "id": "pclDP9V8CLS_"
      }
    },
    {
      "cell_type": "markdown",
      "source": [
        "# Step 1: Get LinkedIn data\n",
        "Download your connections data from LinkedIn[(1)](https://www.linkedin.com/help/linkedin/answer/a566336/export-connections-from-linkedin?lang=en). Once you reqeuest the data, it will take about 10' for the file to be ready for download."
      ],
      "metadata": {
        "id": "b6Pm-Zn7n49E"
      }
    },
    {
      "cell_type": "markdown",
      "source": [
        "# Step 2: Install packages"
      ],
      "metadata": {
        "id": "QL5hyaO-Y0OL"
      }
    },
    {
      "cell_type": "code",
      "source": [
        "# install gender package to predict names from historical data [2]\n",
        "# install janitor package to clean up variable names\n",
        "install.packages(\"gender\")\n",
        "install.packages(\"janitor\")\n",
        "remotes::install_github(\"lmullen/genderdata\")"
      ],
      "metadata": {
        "id": "25h184vONjZj"
      },
      "execution_count": null,
      "outputs": []
    },
    {
      "cell_type": "code",
      "source": [
        "library(gender) # gender\n",
        "library(ggplot2) # graphs\n",
        "library(lubridate) # manipluate dates\n",
        "library(dplyr) # manipulate data\n",
        "library(readr) # importing the LinkedIn data\n",
        "library(janitor) # clean up variable names\n",
        "library(stringr) # dealing with strings\n",
        "library(tidyr) # data wrangling for graphs"
      ],
      "metadata": {
        "id": "rINhJCJVOzVR"
      },
      "execution_count": null,
      "outputs": []
    },
    {
      "cell_type": "markdown",
      "source": [
        "# Step 3: Upload and clean data\n",
        "Download your connections data from LinkedIn [2]."
      ],
      "metadata": {
        "id": "17CySwjTY--4"
      }
    },
    {
      "cell_type": "markdown",
      "source": [
        "Upload your LinkedIn Data Export. If you've downloaded it you can use the GUI. Rename the file to **LIData.zip**."
      ],
      "metadata": {
        "id": "eJ705cZVQ0ir"
      }
    },
    {
      "cell_type": "code",
      "source": [
        "# The LinkedIn file has 3 rows we will omit:\n",
        "## Row 1: \"Notes\"\n",
        "## Row 2: \"When exporting your connection data, you may notice that some of the email addresses are missing. You will only see email addresses for connections who have allowed their connections to see or download their email address using this setting https://www.linkedin.com/psettings/privacy/email. You can learn more here https://www.linkedin.com/help/linkedin/answer/261\"\n",
        "## Row3: Blank\n",
        "## Use \"skip = 3\" to ignore these rows\n",
        "LIdata <- read_csv(\"LIData.zip\", skip = 3)"
      ],
      "metadata": {
        "id": "hbzlV5gRRLo2"
      },
      "execution_count": null,
      "outputs": []
    },
    {
      "cell_type": "code",
      "source": [
        "# Cleaning up variable names to remove spaces and capitalization\n",
        "LIdata <- clean_names(LIdata)"
      ],
      "metadata": {
        "id": "LiGNPKWyXsyw"
      },
      "execution_count": null,
      "outputs": []
    },
    {
      "cell_type": "code",
      "source": [
        "# Check out the data\n",
        "head(LIdata)\n",
        "summary(LIdata)"
      ],
      "metadata": {
        "id": "3JletojhS4D_"
      },
      "execution_count": null,
      "outputs": []
    },
    {
      "cell_type": "code",
      "source": [
        "# Check for missing data\n",
        "colMeans(is.na(LIdata))"
      ],
      "metadata": {
        "id": "Q2f1972nUHK_"
      },
      "execution_count": null,
      "outputs": []
    },
    {
      "cell_type": "markdown",
      "source": [
        "In my data, < 1% were missing first and last names, 99% were missing email, and 1% were missing company and position. Drop data without first name (on review of the raw data, it looks like these are people who have left LinkedIn -- only connection date is present for these rows)."
      ],
      "metadata": {
        "id": "7VVDYFmcUZam"
      }
    },
    {
      "cell_type": "code",
      "source": [
        "# Clean up data\n",
        "LIdata <- LIdata %>% \n",
        "  filter(!is.na(first_name)) %>% # Filter out rows where first_name is missing\n",
        "  mutate(connected_on = lubridate::dmy(connected_on), # Convert connected_on from string to date format\n",
        "    year = year(connected_on), # Create a variable \"year\" to use later\n",
        "    first_names = first_name,\n",
        "    first_names = str_remove(first_names, \"^Dr. \"), # Some people have \"Dr.\" in their first name, remove this\n",
        "    first_names = sub(\"-.*\", \"\", first_names), # Some people have hyphenated first names, remove this\n",
        "    first_names = sub(\" .*\", \"\", first_names), # Some people have double first names, remove this\n",
        "    first_names = str_trim(first_names)) # Trim any extra spaces\n"
      ],
      "metadata": {
        "id": "TSPfcTcmU_Jy"
      },
      "execution_count": null,
      "outputs": []
    },
    {
      "cell_type": "markdown",
      "source": [
        "# Step 4: Predict gender from first names"
      ],
      "metadata": {
        "id": "rY8etRZ5bigD"
      }
    },
    {
      "cell_type": "code",
      "source": [
        "# Run gender function on each row [3]\n",
        "# \"ssa\" is US data from 1930 - 2012, from the Social Security Administration [4]\n",
        "LIdata_gender <- LIdata %>% \n",
        "  distinct(first_names) %>% \n",
        "  do(results = gender(.$first_names, method = \"ssa\")) %>% \n",
        "  do(bind_rows(.$results))  %>% \n",
        "  select(name, gender)"
      ],
      "metadata": {
        "id": "uaBPTB-HdZdq"
      },
      "execution_count": null,
      "outputs": []
    },
    {
      "cell_type": "code",
      "source": [
        "summary(LIdata_gender)"
      ],
      "metadata": {
        "id": "p5EPb7lGgPTt"
      },
      "execution_count": null,
      "outputs": []
    },
    {
      "cell_type": "code",
      "source": [
        "# Join results with original dataset\n",
        "fullDF <- left_join(LIdata, LIdata_gender, by = c(\"first_names\" = \"name\"))"
      ],
      "metadata": {
        "id": "Sqx4ZzdykEqn"
      },
      "execution_count": null,
      "outputs": []
    },
    {
      "cell_type": "markdown",
      "source": [
        "# Step 5: Explore the results"
      ],
      "metadata": {
        "id": "TxRYVzbGw0sr"
      }
    },
    {
      "cell_type": "code",
      "source": [
        "# Percent male, female, and NA\n",
        "fullDF  %>% \n",
        "  mutate(gender = factor(gender,levels = c( \n",
        "            \"male\", \"female\", \"NA\")))  %>% \n",
        "  group_by(gender)  %>% \n",
        "  summarise(n = n())  %>% \n",
        "  mutate(freq = n / sum(n))"
      ],
      "metadata": {
        "id": "FxP2QQ4kpg5E"
      },
      "execution_count": null,
      "outputs": []
    },
    {
      "cell_type": "code",
      "source": [
        "# Graph showing gender of connections by year added\n",
        "g <- ggplot(data = fullDF, aes(x = year, fill = gender)) +\n",
        "  geom_bar(position=\"fill\") +\n",
        "  labs(x = \"Year\", y = \"Percentage\", fill = \"ID'd Gender\",\n",
        "    title = \"New connections by year and ID'd Gender\") +\n",
        "  scale_y_continuous(labels = function(x) paste0(x*100, \"%\"))\n",
        "\n",
        "g"
      ],
      "metadata": {
        "colab": {
          "base_uri": "https://localhost:8080/",
          "height": 437
        },
        "id": "tgOot3FHw6qy",
        "outputId": "a3312024-a1d9-484d-81ee-98a140757104"
      },
      "execution_count": null,
      "outputs": [
        {
          "output_type": "display_data",
          "data": {
            "text/plain": [
              "plot without title"
            ],
            "image/png": "[encoded data removed]"
          },
          "metadata": {
            "image/png": {
              "width": 420,
              "height": 420
            }
          }
        }
      ]
    },
    {
      "cell_type": "code",
      "source": [
        "# Graph cumulative percentage of female connections\n",
        "#Manipulate the data -- note: this is defninitely not the most elegant approach\n",
        "cummPercent <- fullDF  %>% \n",
        "  select(gender, year) %>% \n",
        "  group_by(year, gender) %>% \n",
        "  summarise(n = n()) %>%\n",
        "  ungroup() %>%\n",
        "  spread(gender, n) %>%\n",
        "  mutate(total = female + male, # ommitting NA\n",
        "    cummTot = cumsum(total), \n",
        "    cummFemale = cumsum(female),\n",
        "    cummPercent = cummFemale / cummTot)\n",
        "\n",
        "cummPercent"
      ],
      "metadata": {
        "id": "HCQFtpJz1qk6"
      },
      "execution_count": null,
      "outputs": []
    },
    {
      "cell_type": "code",
      "source": [
        "#Plot percentage\n",
        "g2 <- ggplot() + \n",
        "  geom_line(data = cummPercent, aes(year, y = cummPercent)) + \n",
        "  labs(title = \"Percentage of total LinkedIn connections ID'd Female\", y = \"Percentage\", x = \"Year\")  +\n",
        "  scale_y_continuous(labels = function(x) paste0(x*100, \"%\"),\n",
        "    breaks = c(0.2, 0.3, 0.4, 0.5), limits = c(0.25, 0.50)) # You may need to change the limits if your % female is < 25% or > 50%\n",
        "g2"
      ],
      "metadata": {
        "colab": {
          "base_uri": "https://localhost:8080/",
          "height": 437
        },
        "id": "UqzrKxoPosft",
        "outputId": "b64c0317-2518-43d8-d0a3-fe239f6c3f36"
      },
      "execution_count": null,
      "outputs": [
        {
          "output_type": "display_data",
          "data": {
            "text/plain": [
              "plot without title"
            ],
            "image/png": "[encoded data removed]"
          },
          "metadata": {
            "image/png": {
              "width": 420,
              "height": 420
            }
          }
        }
      ]
    },
    {
      "cell_type": "markdown",
      "source": [
        "# References\n",
        "[1] https://www.linkedin.com/help/linkedin/answer/a566336/export-connections-from-linkedin?lang=en\n",
        "\n",
        "[2] https://cran.r-project.org/web/packages/gender/gender.pdf\n",
        "\n",
        "[3] https://cran.r-project.org/web/packages/gender/vignettes/predicting-gender.html\n",
        "\n",
        "[4] https://www.ssa.gov/oact/babynames/limits.html"
      ],
      "metadata": {
        "id": "rDm7zq2NN5jE"
      }
    }
  ]
}